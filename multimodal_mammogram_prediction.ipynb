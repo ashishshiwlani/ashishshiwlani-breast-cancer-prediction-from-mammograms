{
 "cells": [
  {
   "cell_type": "code",
   "execution_count": 1,
   "id": "f8ce4aa4",
   "metadata": {},
   "outputs": [
    {
     "name": "stderr",
     "output_type": "stream",
     "text": [
      "2025-04-03 16:29:54.552540: I tensorflow/core/platform/cpu_feature_guard.cc:193] This TensorFlow binary is optimized with oneAPI Deep Neural Network Library (oneDNN) to use the following CPU instructions in performance-critical operations:  AVX2 FMA\n",
      "To enable them in other operations, rebuild TensorFlow with the appropriate compiler flags.\n"
     ]
    }
   ],
   "source": [
    "import os\n",
    "import numpy as np\n",
    "import pandas as pd\n",
    "import pydicom\n",
    "from PIL import Image\n",
    "from sklearn.model_selection import train_test_split\n",
    "from tensorflow.keras.models import Model\n",
    "from tensorflow.keras.layers import Input, Conv2D, MaxPooling2D, Flatten, Dense, Dropout, Concatenate\n",
    "from tensorflow.keras.optimizers import Adam\n",
    "import matplotlib.pyplot as plt\n"
   ]
  },
  {
   "cell_type": "code",
   "execution_count": 2,
   "id": "13818fff",
   "metadata": {},
   "outputs": [],
   "source": [
    "image_folder = '/Users/ash/Downloads/cancer detection using mamograms/Final Image/new/manifest-1743632552426'\n",
    "metadata_path = '/Users/ash/Downloads/cancer detection using mamograms/calc_case_description_test_set.csv'\n",
    "metadata = pd.read_csv(metadata_path)\n",
    "\n",
    "X_data = []\n",
    "y_labels = []\n",
    "\n",
    "for root, _, files in os.walk(image_folder):\n",
    "    for file in files:\n",
    "        if file.endswith('.dcm'):\n",
    "            try:\n",
    "                dcm_path = os.path.join(root, file)\n",
    "                ds = pydicom.dcmread(dcm_path)\n",
    "                img = Image.fromarray(ds.pixel_array).resize((224, 224))\n",
    "                img_arr = np.array(img).astype('float32') / 255.0\n",
    "                img_arr = np.expand_dims(img_arr, axis=-1)\n",
    "                raw_id = ds.PatientID\n",
    "                patient_id = raw_id.split('_')[0] + '_' + raw_id.split('_')[1]\n",
    "                matched = metadata[metadata['patient_id'] == patient_id]\n",
    "                if matched.empty:\n",
    "                    continue\n",
    "                label = 1 if matched.iloc[0]['pathology'] == 'MALIGNANT' else 0\n",
    "                X_data.append(img_arr)\n",
    "                y_labels.append(label)\n",
    "            except Exception:\n",
    "                continue\n",
    "\n",
    "X_data = np.array(X_data, dtype='float32')\n",
    "y_labels = np.array(y_labels, dtype='int32')"
   ]
  },
  {
   "cell_type": "code",
   "execution_count": 3,
   "id": "21cdc512",
   "metadata": {},
   "outputs": [
    {
     "name": "stdout",
     "output_type": "stream",
     "text": [
      "Loaded lifestyle features with shape: (48, 6)\n"
     ]
    }
   ],
   "source": [
    "risk_path = '/Users/ash/Downloads/cancer detection using mamograms/risk factor'\n",
    "df1 = pd.read_csv(os.path.join(risk_path, 'bcsc_risk_factors_summarized1_092020.csv'))\n",
    "df2 = pd.read_csv(os.path.join(risk_path, 'bcsc_risk_factors_summarized2_092020.csv'))\n",
    "df3 = pd.read_csv(os.path.join(risk_path, 'bcsc_risk_factors_summarized3_092020.csv'))\n",
    "combined_df = pd.concat([df1, df2, df3], ignore_index=True)\n",
    "selected_columns = ['age_group_5_years', 'first_degree_hx', 'current_hrt', 'menopaus', 'bmi_group', 'BIRADS_breast_density']\n",
    "clean_df = combined_df[selected_columns].dropna().astype('int32')\n",
    "lifestyle_input = clean_df.iloc[:len(X_data)].values\n",
    "print(f\"Loaded lifestyle features with shape: {lifestyle_input.shape}\")\n"
   ]
  },
  {
   "cell_type": "code",
   "execution_count": 4,
   "id": "bbcffbf7",
   "metadata": {},
   "outputs": [
    {
     "name": "stdout",
     "output_type": "stream",
     "text": [
      "Train samples: 38, Test samples: 10\n"
     ]
    }
   ],
   "source": [
    "assert len(X_data) == len(lifestyle_input) == len(y_labels)\n",
    "X_train_img, X_test_img, X_train_life, X_test_life, y_train, y_test = train_test_split(\n",
    "    X_data, lifestyle_input, y_labels, test_size=0.2, stratify=y_labels, random_state=42)\n",
    "\n",
    "print(f\"Train samples: {len(X_train_img)}, Test samples: {len(X_test_img)}\")\n"
   ]
  },
  {
   "cell_type": "code",
   "execution_count": 5,
   "id": "563ef7b4",
   "metadata": {},
   "outputs": [
    {
     "name": "stderr",
     "output_type": "stream",
     "text": [
      "2025-04-03 16:30:02.685073: I tensorflow/core/platform/cpu_feature_guard.cc:193] This TensorFlow binary is optimized with oneAPI Deep Neural Network Library (oneDNN) to use the following CPU instructions in performance-critical operations:  AVX2 FMA\n",
      "To enable them in other operations, rebuild TensorFlow with the appropriate compiler flags.\n"
     ]
    },
    {
     "name": "stdout",
     "output_type": "stream",
     "text": [
      "Model successfully compiled\n"
     ]
    }
   ],
   "source": [
    "img_input = Input(shape=(224, 224, 1), name=\"image_input\")\n",
    "x = Conv2D(32, (3, 3), activation='relu')(img_input)\n",
    "x = MaxPooling2D((2, 2))(x)\n",
    "x = Conv2D(64, (3, 3), activation='relu')(x)\n",
    "x = MaxPooling2D((2, 2))(x)\n",
    "x = Flatten()(x)\n",
    "life_input = Input(shape=(6,), name=\"lifestyle_input\")\n",
    "merged = Concatenate()([x, life_input])\n",
    "z = Dense(128, activation='relu')(merged)\n",
    "z = Dropout(0.3)(z)\n",
    "z = Dense(64, activation='relu')(z)\n",
    "z = Dense(1, activation='sigmoid')(z)\n",
    "model = Model(inputs=[img_input, life_input], outputs=z)\n",
    "model.compile(optimizer=Adam(learning_rate=1e-4), loss='binary_crossentropy', metrics=['accuracy'])\n",
    "\n",
    "print(\"Model successfully compiled\")\n"
   ]
  },
  {
   "cell_type": "code",
   "execution_count": 6,
   "id": "645e2de4",
   "metadata": {},
   "outputs": [
    {
     "name": "stdout",
     "output_type": "stream",
     "text": [
      "Epoch 1/10\n",
      "5/5 [==============================] - 3s 354ms/step - loss: 17.0103 - accuracy: 0.6842 - val_loss: 47.9477 - val_accuracy: 0.8000\n",
      "Epoch 2/10\n",
      "5/5 [==============================] - 2s 308ms/step - loss: 11.7276 - accuracy: 0.8421 - val_loss: 14.7148 - val_accuracy: 0.8000\n",
      "Epoch 3/10\n",
      "5/5 [==============================] - 2s 312ms/step - loss: 2.0700 - accuracy: 0.8684 - val_loss: 2.2215 - val_accuracy: 0.8000\n",
      "Epoch 4/10\n",
      "5/5 [==============================] - 2s 303ms/step - loss: 4.1071 - accuracy: 0.7895 - val_loss: 4.4066 - val_accuracy: 0.7000\n",
      "Epoch 5/10\n",
      "5/5 [==============================] - 1s 300ms/step - loss: 4.3957 - accuracy: 0.7368 - val_loss: 11.0141 - val_accuracy: 0.8000\n",
      "Epoch 6/10\n",
      "5/5 [==============================] - 2s 303ms/step - loss: 6.0336 - accuracy: 0.8158 - val_loss: 23.9289 - val_accuracy: 0.8000\n",
      "Epoch 7/10\n",
      "5/5 [==============================] - 2s 318ms/step - loss: 4.4202 - accuracy: 0.8421 - val_loss: 23.4030 - val_accuracy: 0.8000\n",
      "Epoch 8/10\n",
      "5/5 [==============================] - 2s 306ms/step - loss: 6.4198 - accuracy: 0.8421 - val_loss: 19.5977 - val_accuracy: 0.8000\n",
      "Epoch 9/10\n",
      "5/5 [==============================] - 2s 306ms/step - loss: 2.8221 - accuracy: 0.8421 - val_loss: 10.3901 - val_accuracy: 0.8000\n",
      "Epoch 10/10\n",
      "5/5 [==============================] - 2s 335ms/step - loss: 1.8665 - accuracy: 0.8421 - val_loss: 1.9257 - val_accuracy: 0.7000\n"
     ]
    }
   ],
   "source": [
    "from sklearn.model_selection import train_test_split\n",
    "\n",
    "X_train_img, X_test_img, X_train_life, X_test_life, y_train, y_test = train_test_split(\n",
    "    X_data, lifestyle_input, y_labels, test_size=0.2, stratify=y_labels, random_state=42)\n",
    "\n",
    "history = model.fit([X_train_img, X_train_life], y_train,\n",
    "                    validation_data=([X_test_img, X_test_life], y_test),\n",
    "                    epochs=10, batch_size=8)\n"
   ]
  },
  {
   "cell_type": "code",
   "execution_count": 7,
   "id": "d7b89e90",
   "metadata": {},
   "outputs": [
    {
     "name": "stdout",
     "output_type": "stream",
     "text": [
      "Epoch 1/10\n",
      "5/5 [==============================] - 2s 303ms/step - loss: 0.8148 - accuracy: 0.8158 - val_loss: 2.1264 - val_accuracy: 0.8000\n",
      "Epoch 2/10\n",
      "5/5 [==============================] - 2s 314ms/step - loss: 2.1652 - accuracy: 0.8421 - val_loss: 9.4343 - val_accuracy: 0.8000\n",
      "Epoch 3/10\n",
      "5/5 [==============================] - 2s 319ms/step - loss: 3.4436 - accuracy: 0.8158 - val_loss: 17.9046 - val_accuracy: 0.8000\n",
      "Epoch 4/10\n",
      "5/5 [==============================] - 2s 309ms/step - loss: 5.2412 - accuracy: 0.8421 - val_loss: 15.3633 - val_accuracy: 0.8000\n",
      "Epoch 5/10\n",
      "5/5 [==============================] - 2s 309ms/step - loss: 2.0336 - accuracy: 0.8421 - val_loss: 8.8058 - val_accuracy: 0.8000\n",
      "Epoch 6/10\n",
      "5/5 [==============================] - 2s 306ms/step - loss: 0.9791 - accuracy: 0.8684 - val_loss: 4.0914 - val_accuracy: 0.9000\n",
      "Epoch 7/10\n",
      "5/5 [==============================] - 2s 307ms/step - loss: 0.2205 - accuracy: 0.8947 - val_loss: 2.6404 - val_accuracy: 0.9000\n",
      "Epoch 8/10\n",
      "5/5 [==============================] - 2s 301ms/step - loss: 0.2611 - accuracy: 0.8421 - val_loss: 1.7087 - val_accuracy: 0.9000\n",
      "Epoch 9/10\n",
      "5/5 [==============================] - 1s 299ms/step - loss: 0.9060 - accuracy: 0.8684 - val_loss: 1.6010 - val_accuracy: 0.9000\n",
      "Epoch 10/10\n",
      "5/5 [==============================] - 2s 308ms/step - loss: 0.6521 - accuracy: 0.8684 - val_loss: 2.7347 - val_accuracy: 0.9000\n",
      "Training complete. epoch accuracy: 0.8684\n"
     ]
    }
   ],
   "source": [
    "from sklearn.model_selection import train_test_split\n",
    "\n",
    "X_train_img, X_test_img, X_train_life, X_test_life, y_train, y_test = train_test_split(\n",
    "    X_data, lifestyle_input, y_labels, test_size=0.2, stratify=y_labels, random_state=42\n",
    ")\n",
    "\n",
    "history = model.fit(\n",
    "    [X_train_img, X_train_life], y_train,\n",
    "    validation_data=([X_test_img, X_test_life], y_test),\n",
    "    epochs=10,\n",
    "    batch_size=8\n",
    ")\n",
    "\n",
    "print(f\"Training complete. epoch accuracy: {history.history['accuracy'][-1]:.4f}\")\n"
   ]
  },
  {
   "cell_type": "code",
   "execution_count": 8,
   "id": "eb1bb9c5",
   "metadata": {},
   "outputs": [
    {
     "name": "stdout",
     "output_type": "stream",
     "text": [
      "Risk feature matrix shape: (1522340, 6)\n"
     ]
    }
   ],
   "source": [
    "risk_data_path = '/Users/ash/Downloads/cancer detection using mamograms/risk factor'\n",
    "\n",
    "df1 = pd.read_csv(os.path.join(risk_data_path, 'bcsc_risk_factors_summarized1_092020.csv'))\n",
    "df2 = pd.read_csv(os.path.join(risk_data_path, 'bcsc_risk_factors_summarized2_092020.csv'))\n",
    "df3 = pd.read_csv(os.path.join(risk_data_path, 'bcsc_risk_factors_summarized3_092020.csv'))\n",
    "\n",
    "bcsc_full_df = pd.concat([df1, df2, df3], ignore_index=True)\n",
    "\n",
    "selected_cols = [\n",
    "    'age_group_5_years',\n",
    "    'first_degree_hx',\n",
    "    'current_hrt',\n",
    "    'menopaus',\n",
    "    'bmi_group',\n",
    "    'BIRADS_breast_density'\n",
    "]\n",
    "\n",
    "risk_features = bcsc_full_df[selected_cols].dropna().astype('int32')\n",
    "\n",
    "print(f\"Risk feature matrix shape: {risk_features.shape}\")\n"
   ]
  },
  {
   "cell_type": "code",
   "execution_count": 9,
   "id": "e94264ed",
   "metadata": {
    "scrolled": true
   },
   "outputs": [
    {
     "name": "stdout",
     "output_type": "stream",
     "text": [
      "Epoch 1/10\n",
      "5/5 [==============================] - 2s 258ms/step - loss: 9.6266 - accuracy: 0.7632 - val_loss: 65.1736 - val_accuracy: 0.8000\n",
      "Epoch 2/10\n",
      "5/5 [==============================] - 1s 229ms/step - loss: 16.3475 - accuracy: 0.8421 - val_loss: 36.5115 - val_accuracy: 0.8000\n",
      "Epoch 3/10\n",
      "5/5 [==============================] - 1s 227ms/step - loss: 8.0008 - accuracy: 0.8421 - val_loss: 5.9990 - val_accuracy: 0.8000\n",
      "Epoch 4/10\n",
      "5/5 [==============================] - 1s 227ms/step - loss: 3.3745 - accuracy: 0.7632 - val_loss: 2.3188 - val_accuracy: 0.7000\n",
      "Epoch 5/10\n",
      "5/5 [==============================] - 1s 228ms/step - loss: 3.8493 - accuracy: 0.7632 - val_loss: 3.0367 - val_accuracy: 0.8000\n",
      "Epoch 6/10\n",
      "5/5 [==============================] - 1s 233ms/step - loss: 1.7878 - accuracy: 0.8158 - val_loss: 8.0418 - val_accuracy: 0.8000\n",
      "Epoch 7/10\n",
      "5/5 [==============================] - 1s 226ms/step - loss: 1.7733 - accuracy: 0.8421 - val_loss: 7.0477 - val_accuracy: 0.8000\n",
      "Epoch 8/10\n",
      "5/5 [==============================] - 1s 233ms/step - loss: 1.4008 - accuracy: 0.8684 - val_loss: 2.5239 - val_accuracy: 0.8000\n",
      "Epoch 9/10\n",
      "5/5 [==============================] - 1s 225ms/step - loss: 1.2574 - accuracy: 0.7895 - val_loss: 0.0778 - val_accuracy: 1.0000\n",
      "Epoch 10/10\n",
      "5/5 [==============================] - 1s 223ms/step - loss: 0.2640 - accuracy: 0.8947 - val_loss: 3.1973 - val_accuracy: 0.8000\n"
     ]
    }
   ],
   "source": [
    "X_data = np.array(X_data, dtype='float32')\n",
    "y_labels = np.array([1 if y == 1 else 0 for y in y_labels], dtype='int32')\n",
    "lifestyle_input = risk_features.iloc[:len(X_data)].values\n",
    "\n",
    "X_train_img, X_test_img, X_train_life, X_test_life, y_train, y_test = train_test_split(\n",
    "    X_data, lifestyle_input, y_labels, test_size=0.2, stratify=y_labels, random_state=42\n",
    ")\n",
    "\n",
    "from tensorflow.keras.models import Model\n",
    "from tensorflow.keras.layers import Input, Conv2D, MaxPooling2D, Flatten, Dense, Dropout, Concatenate\n",
    "from tensorflow.keras.optimizers import Adam\n",
    "\n",
    "img_input = Input(shape=(224, 224, 1))\n",
    "life_input = Input(shape=(6,))\n",
    "\n",
    "x = Conv2D(32, (3, 3), activation='relu')(img_input)\n",
    "x = MaxPooling2D(2, 2)(x)\n",
    "x = Conv2D(64, (3, 3), activation='relu')(x)\n",
    "x = MaxPooling2D(2, 2)(x)\n",
    "x = Flatten()(x)\n",
    "\n",
    "merged = Concatenate()([x, life_input])\n",
    "z = Dense(64, activation='relu')(merged)\n",
    "z = Dropout(0.3)(z)\n",
    "z = Dense(1, activation='sigmoid')(z)\n",
    "\n",
    "model = Model(inputs=[img_input, life_input], outputs=z)\n",
    "model.compile(optimizer=Adam(1e-4), loss='binary_crossentropy', metrics=['accuracy'])\n",
    "\n",
    "history = model.fit(\n",
    "    [X_train_img, X_train_life], y_train,\n",
    "    validation_data=([X_test_img, X_test_life], y_test),\n",
    "    epochs=10,\n",
    "    batch_size=8\n",
    ")\n",
    "\n",
    "model.save('mammogram_cnn_multimodal_model.h5')\n"
   ]
  },
  {
   "cell_type": "code",
   "execution_count": 10,
   "id": "923d0c6c",
   "metadata": {},
   "outputs": [
    {
     "data": {
      "image/png": "[encoded data removed]",
      "text/plain": [
       "<Figure size 864x360 with 2 Axes>"
      ]
     },
     "metadata": {
      "needs_background": "light"
     },
     "output_type": "display_data"
    }
   ],
   "source": [
    "\n",
    "\n",
    "plt.figure(figsize=(12, 5))\n",
    "\n",
    "plt.subplot(1, 2, 1)\n",
    "plt.plot(history.history['accuracy'], label='Train Accuracy')\n",
    "plt.plot(history.history['val_accuracy'], label='Validation Accuracy')\n",
    "plt.title('Accuracy Over Epochs')\n",
    "plt.xlabel('Epoch')\n",
    "plt.ylabel('Accuracy')\n",
    "plt.legend()\n",
    "plt.grid(True)\n",
    "\n",
    "plt.subplot(1, 2, 2)\n",
    "plt.plot(history.history['loss'], label='Train Loss')\n",
    "plt.plot(history.history['val_loss'], label='Validation Loss')\n",
    "plt.title('Loss Over Epochs')\n",
    "plt.xlabel('Epoch')\n",
    "plt.ylabel('Loss')\n",
    "plt.legend()\n",
    "plt.grid(True)\n",
    "\n",
    "plt.tight_layout()\n",
    "plt.show()\n"
   ]
  },
  {
   "cell_type": "code",
   "execution_count": 11,
   "id": "865494e4",
   "metadata": {
    "scrolled": true
   },
   "outputs": [
    {
     "name": "stdout",
     "output_type": "stream",
     "text": [
      "SHAP GradientExplainer ready.\n"
     ]
    }
   ],
   "source": [
    "import shap\n",
    "\n",
    "explainer = shap.GradientExplainer(\n",
    "    model,\n",
    "    data=[X_train_img[:50], X_train_life[:50]]\n",
    ")\n",
    "print(\"SHAP GradientExplainer ready.\")\n"
   ]
  },
  {
   "cell_type": "code",
   "execution_count": 12,
   "id": "bac640c2",
   "metadata": {},
   "outputs": [
    {
     "name": "stderr",
     "output_type": "stream",
     "text": [
      "/Users/ash/opt/anaconda3/lib/python3.9/site-packages/keras/backend.py:451: UserWarning: `tf.keras.backend.set_learning_phase` is deprecated and will be removed after 2020-10-11. To update it, simply pass a True/False value to the `training` argument of the `__call__` method of your layer or model.\n",
      "  warnings.warn(\n"
     ]
    },
    {
     "data": {
      "image/png": "[encoded data removed]",
      "text/plain": [
       "<Figure size 720x360 with 1 Axes>"
      ]
     },
     "metadata": {
      "needs_background": "light"
     },
     "output_type": "display_data"
    }
   ],
   "source": [
    "sample_idx = 0\n",
    "img_input = X_test_img[sample_idx:sample_idx+1]\n",
    "life_input = X_test_life[sample_idx:sample_idx+1]\n",
    "\n",
    "shap_values = explainer.shap_values([img_input, life_input])\n",
    "\n",
    "feature_names = [\"Age\", \"Smoking\", \"Alcohol\", \"Married\", \"FamilyHx\", \"Density\"]\n",
    "life_shap = shap_values[1][0].flatten()\n",
    "\n",
    "plt.figure(figsize=(10, 5))\n",
    "plt.bar(feature_names, life_shap)\n",
    "plt.title(\"Lifestyle Feature Importance via SHAP\")\n",
    "plt.ylabel(\"SHAP Value (Impact on Model Output)\")\n",
    "plt.xticks(rotation=30)\n",
    "plt.grid(True)\n",
    "plt.tight_layout()\n",
    "plt.show()\n"
   ]
  },
  {
   "cell_type": "code",
   "execution_count": 13,
   "id": "10682934",
   "metadata": {},
   "outputs": [],
   "source": [
    "from reportlab.pdfgen import canvas\n",
    "from reportlab.lib.pagesizes import A4\n",
    "\n",
    "def generate_pdf_report(user_data, result, confidence, shap_values, feature_names):\n",
    "    try:\n",
    "        print(\"🔄 Generating PDF...\")\n",
    "        filename = f\"{user_data['first_name']}_{user_data['last_name']}_report.pdf\"\n",
    "        c = canvas.Canvas(filename, pagesize=A4)\n",
    "\n",
    "        # Header\n",
    "        c.setFont(\"Helvetica-Bold\", 18)\n",
    "        c.drawString(50, 800, \"🩺 Personalized Breast Cancer Risk Report\")\n",
    "\n",
    "        # Patient Info\n",
    "        c.setFont(\"Helvetica\", 12)\n",
    "        c.drawString(50, 770, f\"Name: {user_data['first_name']} {user_data['last_name']}\")\n",
    "        c.drawString(50, 750, f\"Email: {user_data['email']}\")\n",
    "        c.drawString(50, 730, f\"Date of Birth: {user_data['dob']} (Age: {user_data['age']})\")\n",
    "        c.drawString(50, 710, f\"Marital Status: {user_data['marital_status']}\")\n",
    "        c.drawString(50, 690, f\"Drug History: {', '.join(user_data['drugs'])}\")\n",
    "        \n",
    "        # Prediction result\n",
    "        c.setFont(\"Helvetica-Bold\", 14)\n",
    "        c.drawString(50, 660, f\"Prediction: {result}\")\n",
    "        c.drawString(50, 640, f\"Confidence: {confidence}%\")\n",
    "\n",
    "        # SHAP values\n",
    "        c.setFont(\"Helvetica-Bold\", 12)\n",
    "        c.drawString(50, 610, \"Top Lifestyle Risk Factors (SHAP Importance):\")\n",
    "\n",
    "        if shap_values is not None:\n",
    "            sorted_factors = sorted(zip(feature_names, shap_values), key=lambda x: abs(x[1]), reverse=True)\n",
    "            for i, (feature, value) in enumerate(sorted_factors[:5]):\n",
    "                c.drawString(70, 590 - i*20, f\"{feature}: {round(value, 3)}\")\n",
    "        else:\n",
    "            c.drawString(70, 590, \"SHAP values not available.\")\n",
    "\n",
    "        # Disclaimer\n",
    "        c.setFont(\"Helvetica\", 10)\n",
    "        c.drawString(50, 470, \"⚠️ This is an AI-generated assessment. Clinical validation is required.\")\n",
    "        c.save()\n",
    "\n",
    "        print(f\"✅ PDF saved as: {filename}\")\n",
    "    except Exception as e:\n",
    "        print(f\"❌ Error during PDF generation: {e}\")\n"
   ]
  },
  {
   "cell_type": "code",
   "execution_count": null,
   "id": "14e7cdf2",
   "metadata": {},
   "outputs": [],
   "source": []
  },
  {
   "cell_type": "code",
   "execution_count": 14,
   "id": "119d3646",
   "metadata": {},
   "outputs": [
    {
     "name": "stdout",
     "output_type": "stream",
     "text": [
      "🖼️ Selected 2 mammograms.\n",
      "1/1 [==============================] - 0s 92ms/step\n"
     ]
    },
    {
     "name": "stderr",
     "output_type": "stream",
     "text": [
      "2025-04-03 16:35:01.247 python[80209:2509573] Warning: Expected min height of view: (<NSButton: 0x7fec7c86b9f0>) to be less than or equal to 30 but got a height of 32.000000. This error will be logged once per view in violation.\n"
     ]
    }
   ],
   "source": [
    "import os\n",
    "import numpy as np\n",
    "import pydicom\n",
    "from PIL import Image\n",
    "from datetime import datetime\n",
    "from tkinter import Tk, Label, Entry, Button, filedialog, StringVar, OptionMenu, messagebox\n",
    "from fuzzywuzzy import process\n",
    "from reportlab.pdfgen import canvas\n",
    "from reportlab.lib.pagesizes import A4\n",
    "import shap\n",
    "from tensorflow.keras.models import load_model\n",
    "\n",
    "\n",
    "selected_mammograms = []\n",
    "model = load_model(\"mammogram_cnn_multimodal_model.h5\")\n",
    "explainer = shap.GradientExplainer(model, [np.zeros((1, 224, 224, 1)), np.zeros((1, 6))])\n",
    "def correct_multiple_drugs(drug_input):\n",
    "    known_terms = [\"smoking\", \"alcohol\", \"none\"]\n",
    "    return list(set([\n",
    "        process.extractOne(d.strip().lower(), known_terms)[0] for d in drug_input.split(',') if d.strip()\n",
    "    ]))\n",
    "def select_mammograms():\n",
    "    global selected_mammograms\n",
    "    selected_mammograms = filedialog.askopenfilenames(filetypes=[(\"DICOM files\", \"*.dcm\")])\n",
    "    if selected_mammograms:\n",
    "        status_label.config(text=f\"🖼️ {len(selected_mammograms)} mammogram(s) selected.\")\n",
    "        print(f\"🖼️ Selected {len(selected_mammograms)} mammograms.\")\n",
    "    else:\n",
    "        selected_mammograms = []\n",
    "        status_label.config(text=\"No .DICOM files selected.\")\n",
    "def generate_pdf_report(user_data, result, confidence, shap_values, feature_names):\n",
    "    filename = filedialog.asksaveasfilename(\n",
    "        defaultextension=\".pdf\",\n",
    "        filetypes=[(\"PDF files\", \"*.pdf\")],\n",
    "        initialfile=f\"{user_data['first_name']}_{user_data['last_name']}_report.pdf\"\n",
    "    )\n",
    "    if not filename:\n",
    "        return\n",
    "\n",
    "    c = canvas.Canvas(filename, pagesize=A4)\n",
    "    c.setFont(\"Helvetica-Bold\", 18)\n",
    "    c.drawString(50, 800, \"Personalized Breast Cancer Risk Report\")\n",
    "\n",
    "    c.setFont(\"Helvetica\", 12)\n",
    "    c.drawString(50, 770, f\"Name: {user_data['first_name']} {user_data['last_name']}\")\n",
    "    c.drawString(50, 755, f\"Email: {user_data['email']}\")\n",
    "    c.drawString(50, 740, f\"Date of Birth: {user_data['dob']} (Age: {user_data['age']})\")\n",
    "    c.drawString(50, 725, f\"Marital Status: {user_data['marital_status']}\")\n",
    "    c.drawString(50, 710, f\"Drug History: {', '.join(user_data['drugs'])}\")\n",
    "    c.drawString(50, 695, f\"Family History: {user_data['family_history']}\")\n",
    "    c.drawString(50, 675, f\"Prediction: {result}\")\n",
    "    c.drawString(50, 660, f\"Confidence: {confidence}%\")\n",
    "\n",
    "    c.drawString(50, 630, \"Top Risk Factors (SHAP Importance):\")\n",
    "    sorted_features = sorted(zip(feature_names, shap_values), key=lambda x: abs(x[1]), reverse=True)\n",
    "    for idx, (feat, val) in enumerate(sorted_features[:5]):\n",
    "        c.drawString(70, 610 - (idx * 20), f\"{feat}: {round(float(val), 3)}\")\n",
    "\n",
    "    c.drawString(50, 500, \"Future Risk Projections (Assumed):\")\n",
    "    for future_age in [30, 40, 50, 60]:\n",
    "        risk_score = min(100, round(confidence + (future_age - user_data['age']) * 0.5, 2))\n",
    "        c.drawString(70, 480 - (future_age // 10 * 10), f\"At age {future_age}: estimated risk {risk_score}%\")\n",
    "\n",
    "    c.drawString(50, 400, \"Disclaimer: This AI model is a tool, not a definitive diagnosis. Please consult a physician.\")\n",
    "    c.save()\n",
    "    messagebox.showinfo(\"Report Generated\", f\"Report successfully saved to: {filename}\")\n",
    "    status_label.config(text=\"Report successfully generated!\")\n",
    "def on_generate():\n",
    "    if not selected_mammograms:\n",
    "        messagebox.showerror(\"No File\", \"Please select at least one DICOM file.\")\n",
    "        return\n",
    "\n",
    "    first_name = entries[\"First Name\"].get()\n",
    "    last_name = entries[\"Last Name\"].get()\n",
    "    email = entries[\"Email\"].get()\n",
    "    dob_input = entries[\"Date of Birth (YYYY-MM-DD)\"].get()\n",
    "    drugs = correct_multiple_drugs(entries[\"Drug History\"].get())\n",
    "    marital_status = marital_var.get()\n",
    "    family_history = family_var.get()\n",
    "\n",
    "    try:\n",
    "        age = (datetime.today() - datetime.strptime(dob_input, \"%Y-%m-%d\")).days // 365\n",
    "    except ValueError:\n",
    "        messagebox.showerror(\"Invalid Date\", \"Use YYYY-MM-DD format for date of birth.\")\n",
    "        return\n",
    "\n",
    "    \n",
    "    img_arrays = []\n",
    "    for dicom_path in selected_mammograms:\n",
    "        ds = pydicom.dcmread(dicom_path)\n",
    "        img = Image.fromarray(ds.pixel_array).resize((224, 224))\n",
    "        img_arr = np.array(img) / 255.0\n",
    "        img_arr = np.expand_dims(img_arr.astype('float32'), axis=-1)  # shape: (224, 224, 1)\n",
    "        img_arrays.append(img_arr)\n",
    "\n",
    "    if not img_arrays:\n",
    "        messagebox.showerror(\"Image Error\", \"Could not process any mammogram images.\")\n",
    "        return\n",
    "\n",
    "    avg_img = np.mean(img_arrays, axis=0)\n",
    "    avg_img = np.expand_dims(avg_img, axis=0)  # shape: (1, 224, 224, 1)\n",
    "\n",
    "    lifestyle_arr = np.array([[\n",
    "        age,\n",
    "        int(\"smoking\" in drugs),\n",
    "        int(\"alcohol\" in drugs),\n",
    "        int(marital_status.lower() == \"married\"),\n",
    "        int(any(f in family_history.lower() for f in [\"mother\", \"sister\", \"grandmother\"])),\n",
    "        2\n",
    "    ]], dtype='float32')\n",
    "\n",
    "    try:\n",
    "        pred = model.predict([avg_img, lifestyle_arr])[0][0]\n",
    "        result = \"Malignant\" if pred > 0.5 else \"Benign\"\n",
    "        confidence = round(pred * 100 if result == \"Malignant\" else (1 - pred) * 100, 2)\n",
    "        shap_vals = explainer.shap_values([avg_img, lifestyle_arr])[1][0]\n",
    "\n",
    "        user_data = {\n",
    "            \"first_name\": first_name,\n",
    "            \"last_name\": last_name,\n",
    "            \"email\": email,\n",
    "            \"dob\": dob_input,\n",
    "            \"age\": age,\n",
    "            \"drugs\": drugs,\n",
    "            \"marital_status\": marital_status,\n",
    "            \"family_history\": family_history\n",
    "        }\n",
    "\n",
    "        generate_pdf_report(user_data, result, confidence, shap_vals, [\"Age\", \"Smoking\", \"Alcohol\", \"Married\", \"FamilyHx\", \"Density\"])\n",
    "    except Exception as e:\n",
    "        messagebox.showerror(\"Prediction Error\", f\"Something went wrong during prediction.\\n\\n{str(e)}\")\n",
    "        return\n",
    "\n",
    "\n",
    "root = Tk()\n",
    "root.title(\"Breast Cancer AI Report Generator\")\n",
    "root.geometry(\"440x600\")\n",
    "\n",
    "entries = {}\n",
    "fields = [\"First Name\", \"Last Name\", \"Email\", \"Date of Birth (YYYY-MM-DD)\", \"Drug History\"]\n",
    "for label in fields:\n",
    "    Label(root, text=label).pack()\n",
    "    entry = Entry(root)\n",
    "    entry.pack()\n",
    "    entries[label] = entry\n",
    "\n",
    "Label(root, text=\"Marital Status\").pack()\n",
    "marital_var = StringVar(root)\n",
    "marital_var.set(\"Single\")\n",
    "OptionMenu(root, marital_var, \"Single\", \"Married\").pack()\n",
    "\n",
    "Label(root, text=\"Family History\").pack()\n",
    "family_var = StringVar(root)\n",
    "family_var.set(\"None\")\n",
    "OptionMenu(root, family_var, \"None\", \"Mother had\", \"Grandmother had\", \"Sister had\", \"Multiple family members\").pack()\n",
    "\n",
    "Button(root, text=\"🖼 Select Mammograms\", command=select_mammograms, bg=\"blue\", fg=\"Green\").pack(pady=10)\n",
    "Button(root, text=\"📄 Generate Report\", command=on_generate, bg=\"green\", fg=\"Green\").pack(pady=20)\n",
    "\n",
    "status_label = Label(root, text=\"\")\n",
    "status_label.pack()\n",
    "\n",
    "root.mainloop()"
   ]
  },
  {
   "cell_type": "code",
   "execution_count": null,
   "id": "5531f407",
   "metadata": {},
   "outputs": [],
   "source": []
  },
  {
   "cell_type": "code",
   "execution_count": null,
   "id": "0a80f4d7",
   "metadata": {},
   "outputs": [],
   "source": []
  }
 ],
 "metadata": {
  "kernelspec": {
   "display_name": "Python 3 (ipykernel)",
   "language": "python",
   "name": "python3"
  },
  "language_info": {
   "codemirror_mode": {
    "name": "ipython",
    "version": 3
   },
   "file_extension": ".py",
   "mimetype": "text/x-python",
   "name": "python",
   "nbconvert_exporter": "python",
   "pygments_lexer": "ipython3",
   "version": "3.9.7"
  }
 },
 "nbformat": 4,
 "nbformat_minor": 5
}
